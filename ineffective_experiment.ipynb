{
 "cells": [
  {
   "cell_type": "markdown",
   "id": "07db6ca6-ba06-4d22-abcc-f453c1ab7453",
   "metadata": {},
   "source": [
    "## В данной работе будет проанализирован A/B-тест мобильной игры"
   ]
  },
  {
   "cell_type": "markdown",
   "id": "f70a0423-92ea-4650-9efa-b5d6cc35ae78",
   "metadata": {},
   "source": [
    "#### Импортируем необходимые библиотеки"
   ]
  },
  {
   "cell_type": "code",
   "execution_count": 3,
   "id": "979f16be-ed4d-4f6d-8d7b-350256cc4388",
   "metadata": {},
   "outputs": [],
   "source": [
    "import pandas as pd\n",
    "import seaborn as sns\n",
    "import matplotlib\n",
    "import matplotlib.pyplot as plt\n",
    "import numpy as np\n",
    "import scipy.stats as ss\n",
    "import random\n",
    "rng = random.Random(42)"
   ]
  },
  {
   "cell_type": "markdown",
   "id": "450ecc94-2903-4bb4-b651-043670942fd4",
   "metadata": {},
   "source": [
    "#### Загрузим данные и посмотрим на них"
   ]
  },
  {
   "cell_type": "code",
   "execution_count": 6,
   "id": "980ac801-918d-4b3f-b113-efc9cce3e6f8",
   "metadata": {},
   "outputs": [],
   "source": [
    "# Загружаем данные\n",
    "cats = pd.read_csv(\"cookie_cats.csv\")"
   ]
  },
  {
   "cell_type": "code",
   "execution_count": 8,
   "id": "133eca22-601a-44cc-992f-7c3c416954f2",
   "metadata": {},
   "outputs": [
    {
     "data": {
      "text/html": [
       "<div>\n",
       "<style scoped>\n",
       "    .dataframe tbody tr th:only-of-type {\n",
       "        vertical-align: middle;\n",
       "    }\n",
       "\n",
       "    .dataframe tbody tr th {\n",
       "        vertical-align: top;\n",
       "    }\n",
       "\n",
       "    .dataframe thead th {\n",
       "        text-align: right;\n",
       "    }\n",
       "</style>\n",
       "<table border=\"1\" class=\"dataframe\">\n",
       "  <thead>\n",
       "    <tr style=\"text-align: right;\">\n",
       "      <th></th>\n",
       "      <th>userid</th>\n",
       "      <th>version</th>\n",
       "      <th>sum_gamerounds</th>\n",
       "      <th>retention_1</th>\n",
       "      <th>retention_7</th>\n",
       "    </tr>\n",
       "  </thead>\n",
       "  <tbody>\n",
       "    <tr>\n",
       "      <th>0</th>\n",
       "      <td>116</td>\n",
       "      <td>gate_30</td>\n",
       "      <td>3</td>\n",
       "      <td>False</td>\n",
       "      <td>False</td>\n",
       "    </tr>\n",
       "    <tr>\n",
       "      <th>1</th>\n",
       "      <td>337</td>\n",
       "      <td>gate_30</td>\n",
       "      <td>38</td>\n",
       "      <td>True</td>\n",
       "      <td>False</td>\n",
       "    </tr>\n",
       "    <tr>\n",
       "      <th>2</th>\n",
       "      <td>377</td>\n",
       "      <td>gate_40</td>\n",
       "      <td>165</td>\n",
       "      <td>True</td>\n",
       "      <td>False</td>\n",
       "    </tr>\n",
       "    <tr>\n",
       "      <th>3</th>\n",
       "      <td>483</td>\n",
       "      <td>gate_40</td>\n",
       "      <td>1</td>\n",
       "      <td>False</td>\n",
       "      <td>False</td>\n",
       "    </tr>\n",
       "    <tr>\n",
       "      <th>4</th>\n",
       "      <td>488</td>\n",
       "      <td>gate_40</td>\n",
       "      <td>179</td>\n",
       "      <td>True</td>\n",
       "      <td>True</td>\n",
       "    </tr>\n",
       "  </tbody>\n",
       "</table>\n",
       "</div>"
      ],
      "text/plain": [
       "   userid  version  sum_gamerounds  retention_1  retention_7\n",
       "0     116  gate_30               3        False        False\n",
       "1     337  gate_30              38         True        False\n",
       "2     377  gate_40             165         True        False\n",
       "3     483  gate_40               1        False        False\n",
       "4     488  gate_40             179         True         True"
      ]
     },
     "execution_count": 8,
     "metadata": {},
     "output_type": "execute_result"
    }
   ],
   "source": [
    "# Выведем первые 5 строк\n",
    "cats.head()"
   ]
  },
  {
   "cell_type": "markdown",
   "id": "f5181593-048c-463e-a250-382b0d7aaf2d",
   "metadata": {},
   "source": [
    "#### Значения столбцов:\n",
    "- userid - уникальный идентификатор пользователя;\n",
    "- version - группа пользователя, gate_30 (контрольная), gate_40 (тестовая);\n",
    "- sum_gamerounds - количество игровых раундов, сыгранных игроком в течение первых 14 дней после установки;\n",
    "- retention_1 - вернулся ли пользователь на следующий день полсе установки;\n",
    "- retention_7 - вернулся ли пользователь через 7 дней полсе установки"
   ]
  },
  {
   "cell_type": "code",
   "execution_count": 11,
   "id": "4203b21b-266a-40a6-bdd4-e9a034c4b0dd",
   "metadata": {},
   "outputs": [
    {
     "name": "stdout",
     "output_type": "stream",
     "text": [
      "<class 'pandas.core.frame.DataFrame'>\n",
      "RangeIndex: 90189 entries, 0 to 90188\n",
      "Data columns (total 5 columns):\n",
      " #   Column          Non-Null Count  Dtype \n",
      "---  ------          --------------  ----- \n",
      " 0   userid          90189 non-null  int64 \n",
      " 1   version         90189 non-null  object\n",
      " 2   sum_gamerounds  90189 non-null  int64 \n",
      " 3   retention_1     90189 non-null  bool  \n",
      " 4   retention_7     90189 non-null  bool  \n",
      "dtypes: bool(2), int64(2), object(1)\n",
      "memory usage: 2.2+ MB\n"
     ]
    }
   ],
   "source": [
    "# Посмотрим информацию о количестве не нулевых значений\n",
    "cats.info()"
   ]
  },
  {
   "cell_type": "markdown",
   "id": "2a3592f2-5b12-4a5c-a933-fd24aa8784ae",
   "metadata": {},
   "source": [
    "#### Теперь рассмотрим задания, которые можно выполнить:\n",
    "1. Проанализировать метрики\n",
    "2. Проанализировать A/B-тест по различным показателям"
   ]
  },
  {
   "cell_type": "markdown",
   "id": "92670f2f-6383-478c-8433-2dbaccd2e245",
   "metadata": {},
   "source": [
    "### Для более показательного анализа дополним исходные данные двумя столбцами, которые будут псевдорандомно заполнены:\n",
    "- buy_content - совершил ли пользователь покупку или нет;\n",
    "- revenue - если клиент совершил покупку, то значение равно цене покупки, иначе 0."
   ]
  },
  {
   "cell_type": "code",
   "execution_count": 15,
   "id": "cf653301-6dd2-4ad5-bac7-41a30129dbbe",
   "metadata": {},
   "outputs": [],
   "source": [
    "# Создадим столбец buy_content\n",
    "cats['buy_content'] = cats.apply(lambda row: True if row.userid % 10 >= 5 else False, axis=1)"
   ]
  },
  {
   "cell_type": "code",
   "execution_count": 16,
   "id": "f131330c-1920-4114-91a7-25be1ab6d0ba",
   "metadata": {},
   "outputs": [
    {
     "data": {
      "text/html": [
       "<div>\n",
       "<style scoped>\n",
       "    .dataframe tbody tr th:only-of-type {\n",
       "        vertical-align: middle;\n",
       "    }\n",
       "\n",
       "    .dataframe tbody tr th {\n",
       "        vertical-align: top;\n",
       "    }\n",
       "\n",
       "    .dataframe thead th {\n",
       "        text-align: right;\n",
       "    }\n",
       "</style>\n",
       "<table border=\"1\" class=\"dataframe\">\n",
       "  <thead>\n",
       "    <tr style=\"text-align: right;\">\n",
       "      <th></th>\n",
       "      <th>userid</th>\n",
       "      <th>version</th>\n",
       "      <th>sum_gamerounds</th>\n",
       "      <th>retention_1</th>\n",
       "      <th>retention_7</th>\n",
       "      <th>buy_content</th>\n",
       "    </tr>\n",
       "  </thead>\n",
       "  <tbody>\n",
       "    <tr>\n",
       "      <th>0</th>\n",
       "      <td>116</td>\n",
       "      <td>gate_30</td>\n",
       "      <td>3</td>\n",
       "      <td>False</td>\n",
       "      <td>False</td>\n",
       "      <td>True</td>\n",
       "    </tr>\n",
       "    <tr>\n",
       "      <th>1</th>\n",
       "      <td>337</td>\n",
       "      <td>gate_30</td>\n",
       "      <td>38</td>\n",
       "      <td>True</td>\n",
       "      <td>False</td>\n",
       "      <td>True</td>\n",
       "    </tr>\n",
       "    <tr>\n",
       "      <th>2</th>\n",
       "      <td>377</td>\n",
       "      <td>gate_40</td>\n",
       "      <td>165</td>\n",
       "      <td>True</td>\n",
       "      <td>False</td>\n",
       "      <td>True</td>\n",
       "    </tr>\n",
       "    <tr>\n",
       "      <th>3</th>\n",
       "      <td>483</td>\n",
       "      <td>gate_40</td>\n",
       "      <td>1</td>\n",
       "      <td>False</td>\n",
       "      <td>False</td>\n",
       "      <td>False</td>\n",
       "    </tr>\n",
       "    <tr>\n",
       "      <th>4</th>\n",
       "      <td>488</td>\n",
       "      <td>gate_40</td>\n",
       "      <td>179</td>\n",
       "      <td>True</td>\n",
       "      <td>True</td>\n",
       "      <td>True</td>\n",
       "    </tr>\n",
       "  </tbody>\n",
       "</table>\n",
       "</div>"
      ],
      "text/plain": [
       "   userid  version  sum_gamerounds  retention_1  retention_7  buy_content\n",
       "0     116  gate_30               3        False        False         True\n",
       "1     337  gate_30              38         True        False         True\n",
       "2     377  gate_40             165         True        False         True\n",
       "3     483  gate_40               1        False        False        False\n",
       "4     488  gate_40             179         True         True         True"
      ]
     },
     "execution_count": 16,
     "metadata": {},
     "output_type": "execute_result"
    }
   ],
   "source": [
    "cats.head()"
   ]
  },
  {
   "cell_type": "code",
   "execution_count": 17,
   "id": "ce398527-5695-4080-b0dc-27d03d9851cb",
   "metadata": {},
   "outputs": [],
   "source": [
    "def give_revenue(ret_1, ret_7):\n",
    "    revenue_variants = [299, 599, 999]\n",
    "    if ret_1:\n",
    "        if ret_7:\n",
    "            return revenue_variants[2]\n",
    "        else:\n",
    "            return revenue_variants[1]\n",
    "    else:\n",
    "        return revenue_variants[0]"
   ]
  },
  {
   "cell_type": "code",
   "execution_count": 18,
   "id": "14f2b01a-8042-4b2a-9b55-365ba1317f12",
   "metadata": {},
   "outputs": [],
   "source": [
    "# Создадим массив с возможными ценами на продукты игры, а затем применим функцию для выдачи одной из цен\n",
    "cats['revenue'] = cats.apply(lambda row: give_revenue(row['retention_1'], row['retention_7']) if row['buy_content'] else 0, axis=1)"
   ]
  },
  {
   "cell_type": "code",
   "execution_count": 19,
   "id": "4f38f4a5-fad3-4541-a409-ad03a8480ad0",
   "metadata": {},
   "outputs": [
    {
     "data": {
      "text/html": [
       "<div>\n",
       "<style scoped>\n",
       "    .dataframe tbody tr th:only-of-type {\n",
       "        vertical-align: middle;\n",
       "    }\n",
       "\n",
       "    .dataframe tbody tr th {\n",
       "        vertical-align: top;\n",
       "    }\n",
       "\n",
       "    .dataframe thead th {\n",
       "        text-align: right;\n",
       "    }\n",
       "</style>\n",
       "<table border=\"1\" class=\"dataframe\">\n",
       "  <thead>\n",
       "    <tr style=\"text-align: right;\">\n",
       "      <th></th>\n",
       "      <th>userid</th>\n",
       "      <th>version</th>\n",
       "      <th>sum_gamerounds</th>\n",
       "      <th>retention_1</th>\n",
       "      <th>retention_7</th>\n",
       "      <th>buy_content</th>\n",
       "      <th>revenue</th>\n",
       "    </tr>\n",
       "  </thead>\n",
       "  <tbody>\n",
       "    <tr>\n",
       "      <th>0</th>\n",
       "      <td>116</td>\n",
       "      <td>gate_30</td>\n",
       "      <td>3</td>\n",
       "      <td>False</td>\n",
       "      <td>False</td>\n",
       "      <td>True</td>\n",
       "      <td>299</td>\n",
       "    </tr>\n",
       "    <tr>\n",
       "      <th>1</th>\n",
       "      <td>337</td>\n",
       "      <td>gate_30</td>\n",
       "      <td>38</td>\n",
       "      <td>True</td>\n",
       "      <td>False</td>\n",
       "      <td>True</td>\n",
       "      <td>599</td>\n",
       "    </tr>\n",
       "    <tr>\n",
       "      <th>2</th>\n",
       "      <td>377</td>\n",
       "      <td>gate_40</td>\n",
       "      <td>165</td>\n",
       "      <td>True</td>\n",
       "      <td>False</td>\n",
       "      <td>True</td>\n",
       "      <td>599</td>\n",
       "    </tr>\n",
       "    <tr>\n",
       "      <th>3</th>\n",
       "      <td>483</td>\n",
       "      <td>gate_40</td>\n",
       "      <td>1</td>\n",
       "      <td>False</td>\n",
       "      <td>False</td>\n",
       "      <td>False</td>\n",
       "      <td>0</td>\n",
       "    </tr>\n",
       "    <tr>\n",
       "      <th>4</th>\n",
       "      <td>488</td>\n",
       "      <td>gate_40</td>\n",
       "      <td>179</td>\n",
       "      <td>True</td>\n",
       "      <td>True</td>\n",
       "      <td>True</td>\n",
       "      <td>999</td>\n",
       "    </tr>\n",
       "  </tbody>\n",
       "</table>\n",
       "</div>"
      ],
      "text/plain": [
       "   userid  version  sum_gamerounds  retention_1  retention_7  buy_content  \\\n",
       "0     116  gate_30               3        False        False         True   \n",
       "1     337  gate_30              38         True        False         True   \n",
       "2     377  gate_40             165         True        False         True   \n",
       "3     483  gate_40               1        False        False        False   \n",
       "4     488  gate_40             179         True         True         True   \n",
       "\n",
       "   revenue  \n",
       "0      299  \n",
       "1      599  \n",
       "2      599  \n",
       "3        0  \n",
       "4      999  "
      ]
     },
     "execution_count": 19,
     "metadata": {},
     "output_type": "execute_result"
    }
   ],
   "source": [
    "# Полученный датафрейм\n",
    "cats.head()"
   ]
  },
  {
   "cell_type": "markdown",
   "id": "9f4f9e48-1947-4dfd-bb44-eb22f85c8370",
   "metadata": {},
   "source": [
    "# Часть I. Рассмотрим изначальные данные\n",
    "#### Попробуем найти закономерности и посмотрим описательные статистики\n",
    "#### Сначала посмотрим на sum_gamerounds"
   ]
  },
  {
   "cell_type": "code",
   "execution_count": 22,
   "id": "a5d5fbd3-ab9e-4ad4-a263-40000c28d488",
   "metadata": {},
   "outputs": [
    {
     "data": {
      "text/plain": [
       "count    90189.000000\n",
       "mean        51.872457\n",
       "std        195.050858\n",
       "min          0.000000\n",
       "25%          5.000000\n",
       "50%         16.000000\n",
       "75%         51.000000\n",
       "max      49854.000000\n",
       "Name: sum_gamerounds, dtype: float64"
      ]
     },
     "execution_count": 22,
     "metadata": {},
     "output_type": "execute_result"
    }
   ],
   "source": [
    "# Посмотрим описательные статистики\n",
    "cats.sum_gamerounds.describe()"
   ]
  },
  {
   "cell_type": "markdown",
   "id": "8ee94893-0ba5-4ad1-9249-48b8d7c2381e",
   "metadata": {},
   "source": [
    "Видно, что есть достаточно огромный выброс, который явно завышает среднее. Посмотрим на него и удалим, чтобы он не исказил дальнейший анализ"
   ]
  },
  {
   "cell_type": "code",
   "execution_count": 26,
   "id": "3b50ac3c-c50e-4fd6-b6dd-fd480a6e1499",
   "metadata": {},
   "outputs": [
    {
     "data": {
      "text/html": [
       "<div>\n",
       "<style scoped>\n",
       "    .dataframe tbody tr th:only-of-type {\n",
       "        vertical-align: middle;\n",
       "    }\n",
       "\n",
       "    .dataframe tbody tr th {\n",
       "        vertical-align: top;\n",
       "    }\n",
       "\n",
       "    .dataframe thead th {\n",
       "        text-align: right;\n",
       "    }\n",
       "</style>\n",
       "<table border=\"1\" class=\"dataframe\">\n",
       "  <thead>\n",
       "    <tr style=\"text-align: right;\">\n",
       "      <th></th>\n",
       "      <th>userid</th>\n",
       "      <th>version</th>\n",
       "      <th>sum_gamerounds</th>\n",
       "      <th>retention_1</th>\n",
       "      <th>retention_7</th>\n",
       "      <th>buy_content</th>\n",
       "      <th>revenue</th>\n",
       "    </tr>\n",
       "  </thead>\n",
       "  <tbody>\n",
       "    <tr>\n",
       "      <th>57702</th>\n",
       "      <td>6390605</td>\n",
       "      <td>gate_30</td>\n",
       "      <td>49854</td>\n",
       "      <td>False</td>\n",
       "      <td>True</td>\n",
       "      <td>True</td>\n",
       "      <td>299</td>\n",
       "    </tr>\n",
       "    <tr>\n",
       "      <th>7912</th>\n",
       "      <td>871500</td>\n",
       "      <td>gate_30</td>\n",
       "      <td>2961</td>\n",
       "      <td>True</td>\n",
       "      <td>True</td>\n",
       "      <td>False</td>\n",
       "      <td>0</td>\n",
       "    </tr>\n",
       "    <tr>\n",
       "      <th>29417</th>\n",
       "      <td>3271615</td>\n",
       "      <td>gate_40</td>\n",
       "      <td>2640</td>\n",
       "      <td>True</td>\n",
       "      <td>False</td>\n",
       "      <td>True</td>\n",
       "      <td>599</td>\n",
       "    </tr>\n",
       "    <tr>\n",
       "      <th>43671</th>\n",
       "      <td>4832608</td>\n",
       "      <td>gate_30</td>\n",
       "      <td>2438</td>\n",
       "      <td>True</td>\n",
       "      <td>True</td>\n",
       "      <td>True</td>\n",
       "      <td>999</td>\n",
       "    </tr>\n",
       "    <tr>\n",
       "      <th>48188</th>\n",
       "      <td>5346171</td>\n",
       "      <td>gate_40</td>\n",
       "      <td>2294</td>\n",
       "      <td>True</td>\n",
       "      <td>True</td>\n",
       "      <td>False</td>\n",
       "      <td>0</td>\n",
       "    </tr>\n",
       "  </tbody>\n",
       "</table>\n",
       "</div>"
      ],
      "text/plain": [
       "        userid  version  sum_gamerounds  retention_1  retention_7  \\\n",
       "57702  6390605  gate_30           49854        False         True   \n",
       "7912    871500  gate_30            2961         True         True   \n",
       "29417  3271615  gate_40            2640         True        False   \n",
       "43671  4832608  gate_30            2438         True         True   \n",
       "48188  5346171  gate_40            2294         True         True   \n",
       "\n",
       "       buy_content  revenue  \n",
       "57702         True      299  \n",
       "7912         False        0  \n",
       "29417         True      599  \n",
       "43671         True      999  \n",
       "48188        False        0  "
      ]
     },
     "execution_count": 26,
     "metadata": {},
     "output_type": "execute_result"
    }
   ],
   "source": [
    "# Посмотрим на топ 5 пользователей, которые сыграли больше всего раундов\n",
    "cats.sort_values('sum_gamerounds', ascending=False).head(5)"
   ]
  },
  {
   "cell_type": "code",
   "execution_count": 27,
   "id": "cdd4894d-6fc2-4dea-becf-3d51040e8397",
   "metadata": {},
   "outputs": [],
   "source": [
    "# Возьмем пользователя с аномальным количеством раундов и удалим его из таблицы\n",
    "anomal_player = cats.sort_values('sum_gamerounds', ascending=False).head(1)\n",
    "cats_new = cats.drop(anomal_player.index)"
   ]
  },
  {
   "cell_type": "markdown",
   "id": "b638a976-9c55-442b-8e14-cb6bf03f2ab2",
   "metadata": {},
   "source": [
    "#### Теперь посмотрим на распределение этой велечины"
   ]
  },
  {
   "cell_type": "code",
   "execution_count": 29,
   "id": "905fcc3e-1f3f-4213-984c-cea9b665e57e",
   "metadata": {},
   "outputs": [
    {
     "data": {
      "text/plain": [
       "<Axes: xlabel='sum_gamerounds', ylabel='Count'>"
      ]
     },
     "execution_count": 29,
     "metadata": {},
     "output_type": "execute_result"
    },
    {
     "data": {
      "image/png": "[encoded data removed]",
      "text/plain": [
       "<Figure size 640x480 with 1 Axes>"
      ]
     },
     "metadata": {},
     "output_type": "display_data"
    }
   ],
   "source": [
    "# Построим гистограмму\n",
    "sns.histplot(data=cats_new, x='sum_gamerounds', bins=30)"
   ]
  },
  {
   "cell_type": "markdown",
   "id": "75397f00-5d3d-47d7-9791-5b0c991ee7c7",
   "metadata": {},
   "source": [
    "#### Видно, что распределение сильно отличается от нормального, что вполне естественно. Попробуем прологарифмировать, предварительно убрав нулевые значения"
   ]
  },
  {
   "cell_type": "code",
   "execution_count": 34,
   "id": "69334ff6-0757-4c4b-884f-cce0dd846429",
   "metadata": {},
   "outputs": [
    {
     "data": {
      "text/plain": [
       "<Axes: xlabel='sum_gamerounds', ylabel='Count'>"
      ]
     },
     "execution_count": 34,
     "metadata": {},
     "output_type": "execute_result"
    },
    {
     "data": {
      "image/png": "[encoded data removed]",
      "text/plain": [
       "<Figure size 640x480 with 1 Axes>"
      ]
     },
     "metadata": {},
     "output_type": "display_data"
    }
   ],
   "source": [
    "# Построим гистограмму\n",
    "active_rounds = cats_new.query('sum_gamerounds != 0')\n",
    "sns.histplot(data=active_rounds, x=np.log(active_rounds.sum_gamerounds), bins=10)"
   ]
  },
  {
   "cell_type": "markdown",
   "id": "168ae366-17ce-4801-88e6-319dfcf65a3e",
   "metadata": {},
   "source": [
    "#### Получается логнормальное распределение данных, с которым уже можно работать\n",
    "#### Посотрим на матрицу корреляций относительно количества сыгранных раундов, ретеншена первого и седьмого дня"
   ]
  },
  {
   "cell_type": "code",
   "execution_count": 38,
   "id": "cd2c596d-6789-4f1b-882a-18dfb6f690f9",
   "metadata": {},
   "outputs": [
    {
     "data": {
      "text/html": [
       "<div>\n",
       "<style scoped>\n",
       "    .dataframe tbody tr th:only-of-type {\n",
       "        vertical-align: middle;\n",
       "    }\n",
       "\n",
       "    .dataframe tbody tr th {\n",
       "        vertical-align: top;\n",
       "    }\n",
       "\n",
       "    .dataframe thead th {\n",
       "        text-align: right;\n",
       "    }\n",
       "</style>\n",
       "<table border=\"1\" class=\"dataframe\">\n",
       "  <thead>\n",
       "    <tr style=\"text-align: right;\">\n",
       "      <th></th>\n",
       "      <th>sum_gamerounds</th>\n",
       "      <th>retention_1</th>\n",
       "      <th>retention_7</th>\n",
       "    </tr>\n",
       "  </thead>\n",
       "  <tbody>\n",
       "    <tr>\n",
       "      <th>sum_gamerounds</th>\n",
       "      <td>1.000000</td>\n",
       "      <td>0.380178</td>\n",
       "      <td>0.519288</td>\n",
       "    </tr>\n",
       "    <tr>\n",
       "      <th>retention_1</th>\n",
       "      <td>0.380178</td>\n",
       "      <td>1.000000</td>\n",
       "      <td>0.327431</td>\n",
       "    </tr>\n",
       "    <tr>\n",
       "      <th>retention_7</th>\n",
       "      <td>0.519288</td>\n",
       "      <td>0.327431</td>\n",
       "      <td>1.000000</td>\n",
       "    </tr>\n",
       "  </tbody>\n",
       "</table>\n",
       "</div>"
      ],
      "text/plain": [
       "                sum_gamerounds  retention_1  retention_7\n",
       "sum_gamerounds        1.000000     0.380178     0.519288\n",
       "retention_1           0.380178     1.000000     0.327431\n",
       "retention_7           0.519288     0.327431     1.000000"
      ]
     },
     "execution_count": 38,
     "metadata": {},
     "output_type": "execute_result"
    }
   ],
   "source": [
    "# Построим матрицу корреляций\n",
    "cats_new[['sum_gamerounds', 'retention_1', 'retention_7']].corr()"
   ]
  },
  {
   "cell_type": "markdown",
   "id": "704d6dc2-c46c-4da0-bd03-9dd692359df2",
   "metadata": {},
   "source": [
    "#### Видно, что существует умеренная положительная корреляция между всеми элементами. Поэтому можно сделать вывод, что количество сыгранных раундов зависит от возвращения игроков на 1-й и 7-й дни, но не сильно.\n",
    "#### Теперь рассмотрим различные метрики по группам"
   ]
  },
  {
   "cell_type": "code",
   "execution_count": 41,
   "id": "7d904b91-1ae6-4365-bcb1-e06d4ef09ee5",
   "metadata": {},
   "outputs": [],
   "source": [
    "# Разделим данные по группам\n",
    "control = cats_new.query('version == \"gate_30\"')\n",
    "test = cats_new.query('version == \"gate_40\"')"
   ]
  },
  {
   "cell_type": "markdown",
   "id": "23eb9583-d72f-4c49-9ce0-219c19d6897a",
   "metadata": {},
   "source": [
    "#### Посмотрим на количество сыгранных раундов по группам"
   ]
  },
  {
   "cell_type": "code",
   "execution_count": 45,
   "id": "1d1cebed-0155-4ed1-89c6-537631eeb13e",
   "metadata": {},
   "outputs": [
    {
     "data": {
      "text/plain": [
       "count    44699.000000\n",
       "mean        51.342111\n",
       "std        102.057598\n",
       "min          0.000000\n",
       "25%          5.000000\n",
       "50%         17.000000\n",
       "75%         50.000000\n",
       "max       2961.000000\n",
       "Name: sum_gamerounds, dtype: float64"
      ]
     },
     "execution_count": 45,
     "metadata": {},
     "output_type": "execute_result"
    }
   ],
   "source": [
    "# Описательные статистики контрольной группы\n",
    "control.sum_gamerounds.describe()"
   ]
  },
  {
   "cell_type": "code",
   "execution_count": 48,
   "id": "82f1bec1-a115-40c0-b250-a20b95e9a037",
   "metadata": {},
   "outputs": [
    {
     "data": {
      "text/plain": [
       "count    45489.000000\n",
       "mean        51.298776\n",
       "std        103.294416\n",
       "min          0.000000\n",
       "25%          5.000000\n",
       "50%         16.000000\n",
       "75%         52.000000\n",
       "max       2640.000000\n",
       "Name: sum_gamerounds, dtype: float64"
      ]
     },
     "execution_count": 48,
     "metadata": {},
     "output_type": "execute_result"
    }
   ],
   "source": [
    "# Описательные статистики тестовой группы\n",
    "test.sum_gamerounds.describe()"
   ]
  },
  {
   "cell_type": "markdown",
   "id": "83b71df6-e4a6-4b47-998b-404af5290f74",
   "metadata": {},
   "source": [
    "#### Размеры выборок почти одинаковые, да и статистики похожи друг на друга. Посмотрим на распределения"
   ]
  },
  {
   "cell_type": "code",
   "execution_count": 51,
   "id": "b156006f-c79a-4ea6-97ce-1f371349ee7d",
   "metadata": {},
   "outputs": [
    {
     "data": {
      "image/png": "[encoded data removed]",
      "text/plain": [
       "<Figure size 1000x500 with 2 Axes>"
      ]
     },
     "metadata": {},
     "output_type": "display_data"
    }
   ],
   "source": [
    "fig, (ax1, ax2) = plt.subplots(1, 2, figsize=(10, 5))\n",
    "\n",
    "# Строим гистограмму для первого распределения\n",
    "sns.histplot(control.sum_gamerounds, ax=ax1, color='skyblue', bins=20)\n",
    "ax1.set_title('Контрольная группа')\n",
    "\n",
    "# Строим гистограмму для второго распределения\n",
    "sns.histplot(test.sum_gamerounds, ax=ax2, color='salmon', bins=20)\n",
    "ax2.set_title('Тестовая группа')\n",
    "\n",
    "# Отображаем график\n",
    "plt.show()"
   ]
  },
  {
   "cell_type": "markdown",
   "id": "692315e8-3950-4450-a82e-bc94f41fb238",
   "metadata": {},
   "source": [
    "#### Графики почти идентичны между собой и с общим распределением. Прологарифмируем их, убрав нули"
   ]
  },
  {
   "cell_type": "code",
   "execution_count": 53,
   "id": "b20fa24b-0b79-4cf2-b40f-abb9458ebbc5",
   "metadata": {},
   "outputs": [
    {
     "data": {
      "image/png": "[encoded data removed]",
      "text/plain": [
       "<Figure size 1000x500 with 2 Axes>"
      ]
     },
     "metadata": {},
     "output_type": "display_data"
    }
   ],
   "source": [
    "fig, (ax1, ax2) = plt.subplots(1, 2, figsize=(10, 5))\n",
    "\n",
    "# Строим гистограмму для первого распределения\n",
    "sns.histplot(np.log(control.query('sum_gamerounds != 0').sum_gamerounds), ax=ax1, color='skyblue', bins=20)\n",
    "ax1.set_title('Контрольная группа')\n",
    "\n",
    "# Строим гистограмму для второго распределения\n",
    "sns.histplot(np.log(test.query('sum_gamerounds != 0').sum_gamerounds), ax=ax2, color='salmon', bins=20)\n",
    "ax2.set_title('Тестовая группа')\n",
    "\n",
    "# Отображаем график\n",
    "plt.show()"
   ]
  },
  {
   "cell_type": "markdown",
   "id": "8baa1bed-1e21-4e80-8a9d-d878ac1482ed",
   "metadata": {},
   "source": [
    "#### Теперь статистически проверим выборки на равность дисперсий. Для этого воспользуемся тестом Левена, в котором:\n",
    "##### H<sub>0</sub> - Дисперсии равны\n",
    "##### H<sub>1</sub> - Дисперсии отличаются"
   ]
  },
  {
   "cell_type": "code",
   "execution_count": 56,
   "id": "5efe4b5b-9f92-4a96-b65a-fe1b5a441e8d",
   "metadata": {},
   "outputs": [
    {
     "data": {
      "text/plain": [
       "LeveneResult(statistic=0.07510153837481241, pvalue=0.7840494387892463)"
      ]
     },
     "execution_count": 56,
     "metadata": {},
     "output_type": "execute_result"
    }
   ],
   "source": [
    "# Применим тест Левена\n",
    "ss.levene(control.sum_gamerounds, test.sum_gamerounds)"
   ]
  },
  {
   "cell_type": "markdown",
   "id": "f07e68af-f299-4786-a492-a603d490aabb",
   "metadata": {},
   "source": [
    "#### Дисперсии отличаются не значимо\n",
    "#### Теперь проверим, есть ли отличия в средних значениях в каждой группе и являются ли они статистически значимыми. Для этого возьмем критерий Манна-Уитни, так как у нас есть сильные отличия от нормальности (однако t-тест тоже справился с этой задачей), у которого:\n",
    "#### H<sub>0</sub> - Распределения в двух выборках идентичны\n",
    "#### H<sub>1</sub> - Распределения отличаются\n",
    "#### Уровень значимости возьмем 0.05"
   ]
  },
  {
   "cell_type": "code",
   "execution_count": 60,
   "id": "fee1c89a-2280-48a6-84d3-df893fcd08fc",
   "metadata": {},
   "outputs": [
    {
     "data": {
      "text/plain": [
       "MannwhitneyuResult(statistic=1024285761.5, pvalue=0.05089155279145376)"
      ]
     },
     "execution_count": 60,
     "metadata": {},
     "output_type": "execute_result"
    }
   ],
   "source": [
    "# Применим критерий Манна-Уитни\n",
    "ss.mannwhitneyu(control.sum_gamerounds, test.sum_gamerounds)"
   ]
  },
  {
   "cell_type": "markdown",
   "id": "f61df7d3-1102-4996-9d88-73fae3584f52",
   "metadata": {},
   "source": [
    "#### Получаем p-value чуть больше чем 0.05, что не позволяет отвергнуть нулевую гипотезу"
   ]
  },
  {
   "cell_type": "markdown",
   "id": "89c7f01b-c00a-482a-b002-3c062b4f1e6b",
   "metadata": {},
   "source": [
    "## Вывод: проанализировав A/B-тест по количеству сыгранных раундов можно сказать, что тестовая и контрольные группы статистически значимо не различаются."
   ]
  },
  {
   "cell_type": "markdown",
   "id": "c67cf091-c9d3-4ab4-83f2-f270daf2fbae",
   "metadata": {},
   "source": [
    "### Теперь посмотрим на ретеншн 1-го и 7-го дня"
   ]
  },
  {
   "cell_type": "code",
   "execution_count": 65,
   "id": "f2f48dc7-321a-491b-ae0a-182f6b27b7f1",
   "metadata": {},
   "outputs": [],
   "source": [
    "# Посчитаем общее количество пользователей\n",
    "num_all_control = control.userid.nunique()\n",
    "num_all_test    = test.userid.nunique()"
   ]
  },
  {
   "cell_type": "code",
   "execution_count": 67,
   "id": "a4e1da40-617d-42b1-820b-7e0140843f8f",
   "metadata": {},
   "outputs": [],
   "source": [
    "# Найдем количество вернувшихся пользователей на 1-й день\n",
    "num_return_1_control = control.query('retention_1 == True').userid.nunique()\n",
    "num_return_1_test    = test.query('retention_1 == True').userid.nunique()\n",
    "# Рассчитаем retention для 1-го дня\n",
    "pct_1_control          = np.round(num_return_1_control / num_all_control * 100, 2)\n",
    "pct_1_test             = np.round(num_return_1_test / num_all_test * 100, 2)"
   ]
  },
  {
   "cell_type": "code",
   "execution_count": 69,
   "id": "3140a78d-5e26-4981-94a5-872ce38bdd52",
   "metadata": {},
   "outputs": [],
   "source": [
    "# Найдем количество вернувшихся пользователей на 7-й день\n",
    "num_return_7_control = control.query('retention_7 == True').userid.nunique()\n",
    "num_return_7_test    = test.query('retention_7 == True').userid.nunique()\n",
    "# Рассчитаем retention для 7-го дня\n",
    "pct_7_control          = np.round(num_return_7_control / num_all_control * 100, 2)\n",
    "pct_7_test             = np.round(num_return_7_test / num_all_test * 100, 2)"
   ]
  },
  {
   "cell_type": "code",
   "execution_count": 71,
   "id": "3fc1f450-8845-48ad-b7dc-cd0eff4b2e0a",
   "metadata": {},
   "outputs": [
    {
     "data": {
      "text/html": [
       "<div>\n",
       "<style scoped>\n",
       "    .dataframe tbody tr th:only-of-type {\n",
       "        vertical-align: middle;\n",
       "    }\n",
       "\n",
       "    .dataframe tbody tr th {\n",
       "        vertical-align: top;\n",
       "    }\n",
       "\n",
       "    .dataframe thead th {\n",
       "        text-align: right;\n",
       "    }\n",
       "</style>\n",
       "<table border=\"1\" class=\"dataframe\">\n",
       "  <thead>\n",
       "    <tr style=\"text-align: right;\">\n",
       "      <th></th>\n",
       "      <th>unique_users</th>\n",
       "      <th>returned_users_1</th>\n",
       "      <th>returned_users_7</th>\n",
       "      <th>retention_1</th>\n",
       "      <th>retention_7</th>\n",
       "    </tr>\n",
       "  </thead>\n",
       "  <tbody>\n",
       "    <tr>\n",
       "      <th>control</th>\n",
       "      <td>44699</td>\n",
       "      <td>20034</td>\n",
       "      <td>8501</td>\n",
       "      <td>44.82</td>\n",
       "      <td>19.02</td>\n",
       "    </tr>\n",
       "    <tr>\n",
       "      <th>test</th>\n",
       "      <td>45489</td>\n",
       "      <td>20119</td>\n",
       "      <td>8279</td>\n",
       "      <td>44.23</td>\n",
       "      <td>18.20</td>\n",
       "    </tr>\n",
       "  </tbody>\n",
       "</table>\n",
       "</div>"
      ],
      "text/plain": [
       "         unique_users  returned_users_1  returned_users_7  retention_1  \\\n",
       "control         44699             20034              8501        44.82   \n",
       "test            45489             20119              8279        44.23   \n",
       "\n",
       "         retention_7  \n",
       "control        19.02  \n",
       "test           18.20  "
      ]
     },
     "execution_count": 71,
     "metadata": {},
     "output_type": "execute_result"
    }
   ],
   "source": [
    "pd.DataFrame([[num_all_control, num_return_1_control, num_return_7_control, pct_1_control, pct_7_control], [num_all_test, num_return_1_test, num_return_7_test, pct_1_test, pct_7_test]], \n",
    "            columns=['unique_users', 'returned_users_1', 'returned_users_7', 'retention_1', 'retention_7'], index=['control', 'test'])"
   ]
  },
  {
   "cell_type": "markdown",
   "id": "1fb57dc3-e953-4585-92c6-040a2ffe3f8b",
   "metadata": {},
   "source": [
    "#### Смотря на таблицу, можно сказать, что значения retention-ов не сильно отличаются друг от друга. Получается, изменения в тестовой группе почти ни как не влияет на возвращаемость игороков на 1-й и 7-й дни."
   ]
  },
  {
   "cell_type": "markdown",
   "id": "dd8a1589-1bf2-49b9-be14-2984be384085",
   "metadata": {},
   "source": [
    "# Часть II. Теперь проанализируем данные, которые были искусственно сгенерированы"
   ]
  },
  {
   "cell_type": "code",
   "execution_count": 75,
   "id": "53b62438-8d59-4483-b44a-349441342189",
   "metadata": {},
   "outputs": [
    {
     "data": {
      "text/html": [
       "<div>\n",
       "<style scoped>\n",
       "    .dataframe tbody tr th:only-of-type {\n",
       "        vertical-align: middle;\n",
       "    }\n",
       "\n",
       "    .dataframe tbody tr th {\n",
       "        vertical-align: top;\n",
       "    }\n",
       "\n",
       "    .dataframe thead th {\n",
       "        text-align: right;\n",
       "    }\n",
       "</style>\n",
       "<table border=\"1\" class=\"dataframe\">\n",
       "  <thead>\n",
       "    <tr style=\"text-align: right;\">\n",
       "      <th></th>\n",
       "      <th>userid</th>\n",
       "      <th>version</th>\n",
       "      <th>sum_gamerounds</th>\n",
       "      <th>retention_1</th>\n",
       "      <th>retention_7</th>\n",
       "      <th>buy_content</th>\n",
       "      <th>revenue</th>\n",
       "    </tr>\n",
       "  </thead>\n",
       "  <tbody>\n",
       "    <tr>\n",
       "      <th>0</th>\n",
       "      <td>116</td>\n",
       "      <td>gate_30</td>\n",
       "      <td>3</td>\n",
       "      <td>False</td>\n",
       "      <td>False</td>\n",
       "      <td>True</td>\n",
       "      <td>299</td>\n",
       "    </tr>\n",
       "    <tr>\n",
       "      <th>1</th>\n",
       "      <td>337</td>\n",
       "      <td>gate_30</td>\n",
       "      <td>38</td>\n",
       "      <td>True</td>\n",
       "      <td>False</td>\n",
       "      <td>True</td>\n",
       "      <td>599</td>\n",
       "    </tr>\n",
       "    <tr>\n",
       "      <th>2</th>\n",
       "      <td>377</td>\n",
       "      <td>gate_40</td>\n",
       "      <td>165</td>\n",
       "      <td>True</td>\n",
       "      <td>False</td>\n",
       "      <td>True</td>\n",
       "      <td>599</td>\n",
       "    </tr>\n",
       "    <tr>\n",
       "      <th>3</th>\n",
       "      <td>483</td>\n",
       "      <td>gate_40</td>\n",
       "      <td>1</td>\n",
       "      <td>False</td>\n",
       "      <td>False</td>\n",
       "      <td>False</td>\n",
       "      <td>0</td>\n",
       "    </tr>\n",
       "    <tr>\n",
       "      <th>4</th>\n",
       "      <td>488</td>\n",
       "      <td>gate_40</td>\n",
       "      <td>179</td>\n",
       "      <td>True</td>\n",
       "      <td>True</td>\n",
       "      <td>True</td>\n",
       "      <td>999</td>\n",
       "    </tr>\n",
       "  </tbody>\n",
       "</table>\n",
       "</div>"
      ],
      "text/plain": [
       "   userid  version  sum_gamerounds  retention_1  retention_7  buy_content  \\\n",
       "0     116  gate_30               3        False        False         True   \n",
       "1     337  gate_30              38         True        False         True   \n",
       "2     377  gate_40             165         True        False         True   \n",
       "3     483  gate_40               1        False        False        False   \n",
       "4     488  gate_40             179         True         True         True   \n",
       "\n",
       "   revenue  \n",
       "0      299  \n",
       "1      599  \n",
       "2      599  \n",
       "3        0  \n",
       "4      999  "
      ]
     },
     "execution_count": 75,
     "metadata": {},
     "output_type": "execute_result"
    }
   ],
   "source": [
    "# Еще раз посмотрим на данные\n",
    "cats_new.head()"
   ]
  },
  {
   "cell_type": "code",
   "execution_count": 77,
   "id": "3ad6eeb2-8f08-42fc-9bc3-d46a39ae4c56",
   "metadata": {},
   "outputs": [
    {
     "name": "stdout",
     "output_type": "stream",
     "text": [
      "Количество игороков, котоыре купили контент, равно: 45252\n",
      "Количество игороков, котоыре не купили контент, равно: 44936\n"
     ]
    }
   ],
   "source": [
    "# Посмотрим на количество игороков, которые купили контент в игре\n",
    "print(f'Количество игороков, котоыре купили контент, равно: {cats_new.buy_content.sum()}')\n",
    "print(f'Количество игороков, котоыре не купили контент, равно: {cats_new.buy_content.count() - cats_new.buy_content.sum()}')"
   ]
  },
  {
   "cell_type": "markdown",
   "id": "fa8deafd-cf38-414e-b366-95c885bd1cf4",
   "metadata": {},
   "source": [
    "#### Опять же равенство. Посмотрим то же самое только по группам "
   ]
  },
  {
   "cell_type": "code",
   "execution_count": 80,
   "id": "ff5238e1-507d-4134-9231-e5cbcd9d9c50",
   "metadata": {},
   "outputs": [
    {
     "data": {
      "image/png": "[encoded data removed]",
      "text/plain": [
       "<Figure size 1000x500 with 2 Axes>"
      ]
     },
     "metadata": {},
     "output_type": "display_data"
    }
   ],
   "source": [
    "fig, (ax1, ax2) = plt.subplots(1, 2, figsize=(10, 5))\n",
    "\n",
    "# Строим гистограмму для первого распределения\n",
    "sns.histplot(control, x='buy_content', ax=ax1, color='skyblue', bins=20)\n",
    "ax1.set_title('Контрольная группа')\n",
    "\n",
    "# Строим гистограмму для второго распределения\n",
    "sns.histplot(test, x='buy_content', ax=ax2, color='salmon', bins=20)\n",
    "ax2.set_title('Тестовая группа')\n",
    "\n",
    "# Отображаем график\n",
    "plt.show()"
   ]
  },
  {
   "cell_type": "markdown",
   "id": "f0257539-80c8-49f9-9433-8cb695e21488",
   "metadata": {},
   "source": [
    "#### Теперь рассмотрим показатель выручки. Выведем описательные статистики"
   ]
  },
  {
   "cell_type": "code",
   "execution_count": 82,
   "id": "309b9349-82a0-4bf1-bcb7-6640d3d6c5d8",
   "metadata": {},
   "outputs": [
    {
     "data": {
      "text/plain": [
       "count    44699.000000\n",
       "mean       247.034095\n",
       "std        302.906226\n",
       "min          0.000000\n",
       "25%          0.000000\n",
       "50%        299.000000\n",
       "75%        299.000000\n",
       "max        999.000000\n",
       "Name: revenue, dtype: float64"
      ]
     },
     "execution_count": 82,
     "metadata": {},
     "output_type": "execute_result"
    }
   ],
   "source": [
    "# Посмотрим описательные статистики выручки контрольной группы\n",
    "control.revenue.describe()"
   ]
  },
  {
   "cell_type": "code",
   "execution_count": 85,
   "id": "fdcbe525-d588-4f9d-aeec-5e2a201eedde",
   "metadata": {},
   "outputs": [
    {
     "data": {
      "text/plain": [
       "count    45489.000000\n",
       "mean       245.830223\n",
       "std        300.958360\n",
       "min          0.000000\n",
       "25%          0.000000\n",
       "50%        299.000000\n",
       "75%        299.000000\n",
       "max        999.000000\n",
       "Name: revenue, dtype: float64"
      ]
     },
     "execution_count": 85,
     "metadata": {},
     "output_type": "execute_result"
    }
   ],
   "source": [
    "# Посмотрим описательные статистики выручки тестовой группы\n",
    "test.revenue.describe()"
   ]
  },
  {
   "cell_type": "markdown",
   "id": "a4428f2a-84c7-401a-bb1a-b2663ec1e8ea",
   "metadata": {},
   "source": [
    "#### Построим boxplot-ы для каждой группы"
   ]
  },
  {
   "cell_type": "code",
   "execution_count": 88,
   "id": "0da64f6c-7bfc-4830-8033-390f1469d768",
   "metadata": {},
   "outputs": [
    {
     "data": {
      "text/plain": [
       "<Axes: ylabel='revenue'>"
      ]
     },
     "execution_count": 88,
     "metadata": {},
     "output_type": "execute_result"
    },
    {
     "data": {
      "image/png": "[encoded data removed]",
      "text/plain": [
       "<Figure size 640x480 with 1 Axes>"
      ]
     },
     "metadata": {},
     "output_type": "display_data"
    }
   ],
   "source": [
    "sns.boxplot(cats_new, hue='version', y='revenue')"
   ]
  },
  {
   "cell_type": "markdown",
   "id": "61b83adc-31d5-42ed-9fff-a6a6868d66cc",
   "metadata": {},
   "source": [
    "#### Все очень близко друг к другу, что и следовало ожидать. И для того чтобы окончательно в этом убедиться проверим выборки на равенство средних с помощью т-теста, в котором:\n",
    "#### H<sub>0</sub> - Среднее в двух выборках идентичны\n",
    "#### H<sub>1</sub> - Среднее отличаются\n",
    "#### Уровень значимости возьмем 0.05"
   ]
  },
  {
   "cell_type": "code",
   "execution_count": 90,
   "id": "ac96c21b-1136-428c-bd5b-daf680d7085b",
   "metadata": {},
   "outputs": [
    {
     "data": {
      "text/plain": [
       "TtestResult(statistic=0.598698943877956, pvalue=0.5493751652797159, df=90186.0)"
      ]
     },
     "execution_count": 90,
     "metadata": {},
     "output_type": "execute_result"
    }
   ],
   "source": [
    "ss.ttest_ind(control.revenue, test.revenue)"
   ]
  },
  {
   "cell_type": "markdown",
   "id": "4248a2c4-c8ed-44ad-b688-eb502c08e7b1",
   "metadata": {},
   "source": [
    "#### p-value значительно больше 0.05, что не позволяет нам отклонить нулевую гипотезу, а это значит, что средние значения выручки в двух выборках равны"
   ]
  },
  {
   "cell_type": "markdown",
   "id": "7237e33a-0952-459b-86b8-f5fb96824bd9",
   "metadata": {},
   "source": [
    "# Выводы"
   ]
  },
  {
   "cell_type": "markdown",
   "id": "cc384952-f21f-4793-ba81-b42eba4402fc",
   "metadata": {},
   "source": [
    "### Проанализировав данные мобильной игры, можно сделать следующие выводы: проведенный A/B-тест не принес ощутимого результата. Метрики сыгранных раундов, а также retention 1-го и 7-го дня практически ни как не изменились. Статистически доказано, что данный эксперимент нельзя запускать на всех пользователей и нуждается в доработке.\n",
    "### Также были введены искусственные данные покупался ли контент игроками и за какую сумму. Проанализировав и эти данные, результат остался неизменным: количество игроков, которые купили какой-либо контент не увеличилось, собственно как и выручка.\n",
    "### Можно с уверенностью утверждать, что этот эксперимент провалился"
   ]
  }
 ],
 "metadata": {
  "kernelspec": {
   "display_name": "Python 3 (ipykernel)",
   "language": "python",
   "name": "python3"
  },
  "language_info": {
   "codemirror_mode": {
    "name": "ipython",
    "version": 3
   },
   "file_extension": ".py",
   "mimetype": "text/x-python",
   "name": "python",
   "nbconvert_exporter": "python",
   "pygments_lexer": "ipython3",
   "version": "3.12.7"
  }
 },
 "nbformat": 4,
 "nbformat_minor": 5
}
